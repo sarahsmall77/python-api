{
 "cells": [
  {
   "cell_type": "markdown",
   "metadata": {},
   "source": [
    "#WeatherPy Homework....after starter files jumped to pdf format, so flying blind\n",
    "update: starter file back up after fixing 'merge' problem in gitbash...yay! all but output file established properly without having starter code visible :) \n",
    "Currently have api_key setup slightly differently...but looks like its working for me this way\n"
   ]
  },
  {
   "cell_type": "markdown",
   "metadata": {},
   "source": [
    "looking to plot\n",
    "* Temperature (F) vs. Latitude\n",
    "* Humidity (%) vs. Latitude\n",
    "* Cloudiness (%) vs. Latitude\n",
    "* Wind Speed (mph) vs. Latitude\n",
    "From openweather API will need current weather for locating cities by latitude? or just map layers to collect humidity, cloudiness, and wind speed?"
   ]
  },
  {
   "cell_type": "code",
   "execution_count": 1,
   "metadata": {},
   "outputs": [],
   "source": [
    "#start with importing dependencies...need pandas, matplotlib, time, citipy, json? better safe than sorry, requests for weather api\n",
    "import numpy as np\n",
    "import pandas as pd\n",
    "import requests\n",
    "import time\n",
    "from citipy import citipy\n",
    "import json\n",
    "import matplotlib.pyplot as plt\n",
    "\n"
   ]
  },
  {
   "cell_type": "code",
   "execution_count": 2,
   "metadata": {},
   "outputs": [
    {
     "data": {
      "text/plain": [
       "'772c40118f5ede93501eb573841310af'"
      ]
     },
     "execution_count": 2,
     "metadata": {},
     "output_type": "execute_result"
    }
   ],
   "source": [
    "#found my api key...now off to remember how to use it...\n",
    "from api_keys import api_key\n",
    "api_key"
   ]
  },
  {
   "cell_type": "markdown",
   "metadata": {},
   "source": [
    "notes from Tuesday, 8/7\n",
    "#setup openweathermaps url for requests\n",
    "#url = https://openweathermap.org/api  ...this doesn't display url when asked, returning to openweather class assignment for proper use of requests and api entry\n",
    "\n",
    "# Save config information\n",
    "url = \"http://api.openweathermap.org/data/2.5/weather?\"\n",
    "city = \"London\"\n",
    "\n",
    "# Build query URL\n",
    "query_url = url + \"appid=\" + api_key + \"&q=\" + city\n",
    "query_url\n",
    "\n",
    "\n",
    "#testing\n",
    "response = requests.get(url).json()\n",
    "print(json.dumps(response, indent=4, sort_keys=True))\n",
    "doesn't work with 'invalid api key' error thrown...\n",
    "\n",
    "This is the setup that was used in instructor example for weather:\n",
    "#Get Weather Data\n",
    "weather_response = requests.get(query_url)\n",
    "weather_json = weather_response.json()\n",
    "\n",
    "#get the temperature from the response\n",
    "print(f\"The weather API responded with: {weather_json}.\")\n",
    "\n",
    "\n",
    "#trying with weather example to test api request\n",
    "# Get weather data\n",
    "weather_response = requests.get(query_url)\n",
    "weather_json = weather_response.json()\n",
    "\n",
    "# Get the temperature from the response\n",
    "print(f\"The weather API responded with: {weather_json}.\")\n",
    "\n",
    "#Same error thrown, removing the \"appid=' from api_keys...worked the second time with change\n",
    "\n",
    "need to review citipy documentation, and exercises on creating library and looping for unique values so I can pull data for at \n",
    "least 500 cities...will require creating a dictionary i.e. cities = []\n",
    "\n",
    "In looking at 'movies' activity, want to try editing above query as such:\n",
    "change 'city' to cities = [\"London\", \"Saint Louis\", \"Madrid\"]\n",
    "responses = []\n",
    "\n",
    "for city in cities\n",
    "    temp_data = requests.get(query_url + city).json()\n",
    "    responses.append(temp_data)\n",
    "tested in 'weatherpy practice', getting errors due to list of cities, not a string\n",
    "need to get to class now!\n",
    "\n",
    "\n"
   ]
  },
  {
   "cell_type": "code",
   "execution_count": 3,
   "metadata": {},
   "outputs": [],
   "source": [
    "#starter code and instructions indicate need for output csv file...need to review process for when/where this is created\n",
    "output_data_file = \"output_data/cities.csv\""
   ]
  },
  {
   "cell_type": "code",
   "execution_count": 4,
   "metadata": {},
   "outputs": [],
   "source": [
    "#after starter restored, see need to setup lat/long range to gather city data\n",
    "lat_range = (-90, 90)\n",
    "lng_range = (-180, 180)\n"
   ]
  },
  {
   "cell_type": "markdown",
   "metadata": {},
   "source": [
    "picked up again on Thursday 8/9 after falling asleep with computer late on 8/7 and crazy day on 8/8"
   ]
  },
  {
   "cell_type": "code",
   "execution_count": 5,
   "metadata": {},
   "outputs": [
    {
     "data": {
      "text/plain": [
       "639"
      ]
     },
     "execution_count": 5,
     "metadata": {},
     "output_type": "execute_result"
    }
   ],
   "source": [
    "#from starter for generating cities list\n",
    "# List for holding lat_lngs and cities\n",
    "lat_lngs = []\n",
    "cities = []\n",
    "\n",
    "# Create a set of random lat and lng combinations\n",
    "lats = np.random.uniform(low=-90.000, high=90.000, size=1500)\n",
    "lngs = np.random.uniform(low=-180.000, high=180.000, size=1500)\n",
    "lat_lngs = zip(lats, lngs)\n",
    "\n",
    "# Identify nearest city for each lat, lng combination\n",
    "for lat_lng in lat_lngs:\n",
    "    city = citipy.nearest_city(lat_lng[0], lat_lng[1]).city_name\n",
    "    \n",
    "    # If the city is unique, then add it to a our cities list\n",
    "    if city not in cities:\n",
    "        cities.append(city)\n",
    "\n",
    "# Print the city count to confirm sufficient count\n",
    "len(cities)"
   ]
  },
  {
   "cell_type": "markdown",
   "metadata": {},
   "source": [
    "I have sufficient city count, now how to make the api calls with appropriate time delay?\n",
    "\n",
    "Time limitation on calls....from API documentation, only attempt call once per 10 minutes, free accountinfo says:\n",
    "Threshold: 7,200 \n",
    "Hourly forecast: 5 \n",
    "Daily forecast: 0 \n",
    "Calls 1min: 60 \n",
    "If limits exceeded, 1st block=1hr, increases by 1hr until 4 blocks, at 5 blocks increases to 24 hrs. \n",
    "With 639 cities, that requires 11 calls, hence 2 hours just to call. I'm screwed and waited too long to do this, as usual, and after assignment was extended due to need to limit requests by time :(\n",
    "\n",
    "API doc also says calls need to use city_ID. So, downloaded city list.json, unzipped, and saved in folder with working docs. This data only includes id#, name, lat/lng\n",
    "\n",
    "Where is my \"output_data/cities.csv\" file? I can't find it in my working directory, but remember we talked about this last week in an exercise with citipy...My assumption is that this is not generated until I have actual data to save from making the calls. \n",
    "\n",
    "Next, need to make df to store temp, humid, cloud, wind for plots...is that one df or 4?"
   ]
  },
  {
   "cell_type": "code",
   "execution_count": null,
   "metadata": {},
   "outputs": [],
   "source": [
    "#starter code for calling API\n",
    "# OpenWeatherMap API Key\n",
    "# api_key = api_keys.api_key.....how does this change since I imported api key? I think it should work since \"api_key\" exists\n",
    "\n",
    "# Starting URL for Weather Map API Call \n",
    "url = \"http://api.openweathermap.org/data/2.5/weather?units=Imperial&APPID=\" + api_key \n"
   ]
  }
 ],
 "metadata": {
  "kernelspec": {
   "display_name": "Python 3",
   "language": "python",
   "name": "python3"
  },
  "language_info": {
   "codemirror_mode": {
    "name": "ipython",
    "version": 3
   },
   "file_extension": ".py",
   "mimetype": "text/x-python",
   "name": "python",
   "nbconvert_exporter": "python",
   "pygments_lexer": "ipython3",
   "version": "3.6.5"
  }
 },
 "nbformat": 4,
 "nbformat_minor": 2
}
